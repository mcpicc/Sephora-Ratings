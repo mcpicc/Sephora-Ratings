{
 "cells": [
  {
   "cell_type": "markdown",
   "id": "da861549",
   "metadata": {},
   "source": [
    "### Sentiment Analysis on Sephora Product Reviews: Pre-processing\n",
    "In this notebook I will be creating the train/test set to be used for modeling."
   ]
  },
  {
   "cell_type": "code",
   "execution_count": 1,
   "id": "121da9e9",
   "metadata": {},
   "outputs": [],
   "source": [
    "# import libraries\n",
    "\n",
    "import pandas as pd\n",
    "import numpy as np\n",
    "\n",
    "from sklearn.feature_extraction.text import CountVectorizer, TfidfVectorizer\n",
    "\n",
    "from sklearn.model_selection import train_test_split\n",
    "\n",
    "import pickle"
   ]
  },
  {
   "cell_type": "code",
   "execution_count": 2,
   "id": "89d56a81",
   "metadata": {},
   "outputs": [],
   "source": [
    "import warnings\n",
    "warnings.filterwarnings(\"ignore\")"
   ]
  },
  {
   "cell_type": "code",
   "execution_count": 3,
   "id": "64a30abd",
   "metadata": {},
   "outputs": [],
   "source": [
    "# import dataframr\n",
    "\n",
    "df = pd.read_pickle('reviews_text_only.pkl')"
   ]
  },
  {
   "cell_type": "code",
   "execution_count": 4,
   "id": "26c48919",
   "metadata": {},
   "outputs": [
    {
     "data": {
      "text/html": [
       "<div>\n",
       "<style scoped>\n",
       "    .dataframe tbody tr th:only-of-type {\n",
       "        vertical-align: middle;\n",
       "    }\n",
       "\n",
       "    .dataframe tbody tr th {\n",
       "        vertical-align: top;\n",
       "    }\n",
       "\n",
       "    .dataframe thead th {\n",
       "        text-align: right;\n",
       "    }\n",
       "</style>\n",
       "<table border=\"1\" class=\"dataframe\">\n",
       "  <thead>\n",
       "    <tr style=\"text-align: right;\">\n",
       "      <th></th>\n",
       "      <th>review_text</th>\n",
       "      <th>text_preproc</th>\n",
       "      <th>is_recommended</th>\n",
       "    </tr>\n",
       "  </thead>\n",
       "  <tbody>\n",
       "    <tr>\n",
       "      <th>0</th>\n",
       "      <td>This is an amazing cleanser!! I was looking fo...</td>\n",
       "      <td>this is an amazing cleanser i was looking for ...</td>\n",
       "      <td>1.0</td>\n",
       "    </tr>\n",
       "    <tr>\n",
       "      <th>1</th>\n",
       "      <td>I have really enjoyed using my new Kate Somerv...</td>\n",
       "      <td>i have really enjoyed using my new kate somerv...</td>\n",
       "      <td>1.0</td>\n",
       "    </tr>\n",
       "    <tr>\n",
       "      <th>2</th>\n",
       "      <td>Where has this been my adult life?! After one ...</td>\n",
       "      <td>where has this been my adult life after one us...</td>\n",
       "      <td>1.0</td>\n",
       "    </tr>\n",
       "    <tr>\n",
       "      <th>3</th>\n",
       "      <td>I love using the Caudalie Instant Detox Clay M...</td>\n",
       "      <td>i love using the caudalie instant detox clay m...</td>\n",
       "      <td>1.0</td>\n",
       "    </tr>\n",
       "    <tr>\n",
       "      <th>4</th>\n",
       "      <td>I recently started using the gua sha and neede...</td>\n",
       "      <td>i recently started using the gua sha and neede...</td>\n",
       "      <td>1.0</td>\n",
       "    </tr>\n",
       "  </tbody>\n",
       "</table>\n",
       "</div>"
      ],
      "text/plain": [
       "                                         review_text  \\\n",
       "0  This is an amazing cleanser!! I was looking fo...   \n",
       "1  I have really enjoyed using my new Kate Somerv...   \n",
       "2  Where has this been my adult life?! After one ...   \n",
       "3  I love using the Caudalie Instant Detox Clay M...   \n",
       "4  I recently started using the gua sha and neede...   \n",
       "\n",
       "                                        text_preproc  is_recommended  \n",
       "0  this is an amazing cleanser i was looking for ...             1.0  \n",
       "1  i have really enjoyed using my new kate somerv...             1.0  \n",
       "2  where has this been my adult life after one us...             1.0  \n",
       "3  i love using the caudalie instant detox clay m...             1.0  \n",
       "4  i recently started using the gua sha and neede...             1.0  "
      ]
     },
     "execution_count": 4,
     "metadata": {},
     "output_type": "execute_result"
    }
   ],
   "source": [
    "# view df to make sure everything looks good\n",
    "\n",
    "df.head()"
   ]
  },
  {
   "cell_type": "code",
   "execution_count": 5,
   "id": "169b92c5",
   "metadata": {},
   "outputs": [],
   "source": [
    "# create x and y\n",
    "\n",
    "x=df['review_text']\n",
    "y=df['is_recommended']"
   ]
  },
  {
   "cell_type": "code",
   "execution_count": 6,
   "id": "da47090b",
   "metadata": {},
   "outputs": [],
   "source": [
    "# initialize the vectorizer\n",
    "# I am using TF-IDF\n",
    "\n",
    "vectorizer = TfidfVectorizer(stop_words=\"english\")"
   ]
  },
  {
   "cell_type": "code",
   "execution_count": 7,
   "id": "40c2804d",
   "metadata": {},
   "outputs": [],
   "source": [
    "x = vectorizer.fit_transform(x)"
   ]
  },
  {
   "cell_type": "code",
   "execution_count": 8,
   "id": "f932b170",
   "metadata": {},
   "outputs": [],
   "source": [
    "# train/test split\n",
    "\n",
    "x_train, x_test, y_train, y_test = train_test_split(x, y, test_size=0.33, random_state=42)"
   ]
  },
  {
   "cell_type": "code",
   "execution_count": 9,
   "id": "1d8c9284",
   "metadata": {},
   "outputs": [],
   "source": [
    "# save to pickle\n",
    "\n",
    "pkl_filename = \"x_train.pkl\"\n",
    "with open(pkl_filename, 'wb') as file:\n",
    "    pickle.dump(x_train, file)\n",
    "    \n",
    "    \n",
    "pkl_filename = \"x_test.pkl\"\n",
    "with open(pkl_filename, 'wb') as file:\n",
    "    pickle.dump(x_test, file)\n",
    "    \n",
    "    \n",
    "pkl_filename = \"y_train.pkl\"\n",
    "with open(pkl_filename, 'wb') as file:\n",
    "    pickle.dump(y_train, file)\n",
    "    \n",
    "    \n",
    "pkl_filename = \"y_test.pkl\"\n",
    "with open(pkl_filename, 'wb') as file:\n",
    "    pickle.dump(y_test, file)\n",
    "    \n",
    "vec_file = \"tfidf_vectorizer.pickle\"\n",
    "pickle.dump(vectorizer, open(vec_file, \"wb\"))"
   ]
  }
 ],
 "metadata": {
  "kernelspec": {
   "display_name": "Python 3 (ipykernel)",
   "language": "python",
   "name": "python3"
  },
  "language_info": {
   "codemirror_mode": {
    "name": "ipython",
    "version": 3
   },
   "file_extension": ".py",
   "mimetype": "text/x-python",
   "name": "python",
   "nbconvert_exporter": "python",
   "pygments_lexer": "ipython3",
   "version": "3.9.12"
  }
 },
 "nbformat": 4,
 "nbformat_minor": 5
}
